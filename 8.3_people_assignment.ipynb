{
 "cells": [
  {
   "cell_type": "markdown",
   "metadata": {},
   "source": [
    "# People assignment EdX MOOC: Delft EX101x Data Analysis"
   ]
  },
  {
   "cell_type": "markdown",
   "metadata": {},
   "source": [
    "## 1. Data preparation"
   ]
  },
  {
   "cell_type": "code",
   "execution_count": 61,
   "metadata": {
    "collapsed": true
   },
   "outputs": [],
   "source": [
    "# We'll need some modules\n",
    "import networkx as nx\n",
    "import pandas as pd\n",
    "import matplotlib.pyplot as plt\n",
    "%matplotlib inline"
   ]
  },
  {
   "cell_type": "code",
   "execution_count": 62,
   "metadata": {
    "collapsed": false
   },
   "outputs": [
    {
     "data": {
      "text/html": [
       "<div>\n",
       "<table border=\"1\" class=\"dataframe\">\n",
       "  <thead>\n",
       "    <tr style=\"text-align: right;\">\n",
       "      <th></th>\n",
       "      <th>name</th>\n",
       "      <th>age</th>\n",
       "      <th>city</th>\n",
       "      <th>gender</th>\n",
       "    </tr>\n",
       "  </thead>\n",
       "  <tbody>\n",
       "    <tr>\n",
       "      <th>0</th>\n",
       "      <td>Sharon Rogers</td>\n",
       "      <td>24</td>\n",
       "      <td>Amsterdam</td>\n",
       "      <td>Female</td>\n",
       "    </tr>\n",
       "    <tr>\n",
       "      <th>1</th>\n",
       "      <td>Victor Phillips</td>\n",
       "      <td>25</td>\n",
       "      <td>Belgrade</td>\n",
       "      <td>Male</td>\n",
       "    </tr>\n",
       "    <tr>\n",
       "      <th>2</th>\n",
       "      <td>Pamela Butler</td>\n",
       "      <td>21</td>\n",
       "      <td>Cairo</td>\n",
       "      <td>Female</td>\n",
       "    </tr>\n",
       "    <tr>\n",
       "      <th>3</th>\n",
       "      <td>Barbara Moore</td>\n",
       "      <td>30</td>\n",
       "      <td>Toronto</td>\n",
       "      <td>Female</td>\n",
       "    </tr>\n",
       "    <tr>\n",
       "      <th>4</th>\n",
       "      <td>Angela Roberts</td>\n",
       "      <td>23</td>\n",
       "      <td>Shanghai</td>\n",
       "      <td>Female</td>\n",
       "    </tr>\n",
       "  </tbody>\n",
       "</table>\n",
       "</div>"
      ],
      "text/plain": [
       "              name  age       city  gender\n",
       "0    Sharon Rogers   24  Amsterdam  Female\n",
       "1  Victor Phillips   25   Belgrade    Male\n",
       "2    Pamela Butler   21      Cairo  Female\n",
       "3    Barbara Moore   30    Toronto  Female\n",
       "4   Angela Roberts   23   Shanghai  Female"
      ]
     },
     "execution_count": 62,
     "metadata": {},
     "output_type": "execute_result"
    }
   ],
   "source": [
    "# People data: name, age, city, gender\n",
    "pp = pd.read_csv(\"Data/8.3.csv\")\n",
    "pp.head()"
   ]
  },
  {
   "cell_type": "code",
   "execution_count": 63,
   "metadata": {
    "collapsed": false
   },
   "outputs": [
    {
     "name": "stdout",
     "output_type": "stream",
     "text": [
      "Number of people in these data: 50\n"
     ]
    }
   ],
   "source": [
    "print(\"Number of people in these data: {}\".format(len(pp)))"
   ]
  },
  {
   "cell_type": "code",
   "execution_count": 64,
   "metadata": {
    "collapsed": false
   },
   "outputs": [
    {
     "data": {
      "text/html": [
       "<div>\n",
       "<table border=\"1\" class=\"dataframe\">\n",
       "  <thead>\n",
       "    <tr style=\"text-align: right;\">\n",
       "      <th></th>\n",
       "      <th>name</th>\n",
       "      <th>age</th>\n",
       "      <th>city</th>\n",
       "      <th>gender</th>\n",
       "    </tr>\n",
       "  </thead>\n",
       "  <tbody>\n",
       "    <tr>\n",
       "      <th>45</th>\n",
       "      <td>Bruce Ward</td>\n",
       "      <td>21</td>\n",
       "      <td>Paris</td>\n",
       "      <td>Male</td>\n",
       "    </tr>\n",
       "    <tr>\n",
       "      <th>46</th>\n",
       "      <td>Joe Reed</td>\n",
       "      <td>24</td>\n",
       "      <td>San Francisco</td>\n",
       "      <td>Male</td>\n",
       "    </tr>\n",
       "    <tr>\n",
       "      <th>47</th>\n",
       "      <td>Kathleen Foster</td>\n",
       "      <td>27</td>\n",
       "      <td>Belgrade</td>\n",
       "      <td>Female</td>\n",
       "    </tr>\n",
       "    <tr>\n",
       "      <th>48</th>\n",
       "      <td>Carolyn Edwards</td>\n",
       "      <td>21</td>\n",
       "      <td>Sydney</td>\n",
       "      <td>Female</td>\n",
       "    </tr>\n",
       "    <tr>\n",
       "      <th>49</th>\n",
       "      <td>Bonnie Lewis</td>\n",
       "      <td>24</td>\n",
       "      <td>Amsterdam</td>\n",
       "      <td>Female</td>\n",
       "    </tr>\n",
       "  </tbody>\n",
       "</table>\n",
       "</div>"
      ],
      "text/plain": [
       "               name  age           city  gender\n",
       "45       Bruce Ward   21          Paris    Male\n",
       "46         Joe Reed   24  San Francisco    Male\n",
       "47  Kathleen Foster   27       Belgrade  Female\n",
       "48  Carolyn Edwards   21         Sydney  Female\n",
       "49     Bonnie Lewis   24      Amsterdam  Female"
      ]
     },
     "execution_count": 64,
     "metadata": {},
     "output_type": "execute_result"
    }
   ],
   "source": [
    "pp.tail()"
   ]
  },
  {
   "cell_type": "code",
   "execution_count": 65,
   "metadata": {
    "collapsed": false
   },
   "outputs": [
    {
     "data": {
      "text/html": [
       "<div>\n",
       "<table border=\"1\" class=\"dataframe\">\n",
       "  <thead>\n",
       "    <tr style=\"text-align: right;\">\n",
       "      <th></th>\n",
       "      <th>name</th>\n",
       "      <th>hobby</th>\n",
       "    </tr>\n",
       "  </thead>\n",
       "  <tbody>\n",
       "    <tr>\n",
       "      <th>0</th>\n",
       "      <td>Sharon Rogers</td>\n",
       "      <td>Gaming</td>\n",
       "    </tr>\n",
       "    <tr>\n",
       "      <th>1</th>\n",
       "      <td>Victor Phillips</td>\n",
       "      <td>Turtles</td>\n",
       "    </tr>\n",
       "    <tr>\n",
       "      <th>2</th>\n",
       "      <td>Pamela Butler</td>\n",
       "      <td>Dancing</td>\n",
       "    </tr>\n",
       "    <tr>\n",
       "      <th>3</th>\n",
       "      <td>Barbara Moore</td>\n",
       "      <td>Movies</td>\n",
       "    </tr>\n",
       "    <tr>\n",
       "      <th>4</th>\n",
       "      <td>Angela Roberts</td>\n",
       "      <td>Spreadsheets</td>\n",
       "    </tr>\n",
       "  </tbody>\n",
       "</table>\n",
       "</div>"
      ],
      "text/plain": [
       "              name         hobby\n",
       "0    Sharon Rogers        Gaming\n",
       "1  Victor Phillips       Turtles\n",
       "2    Pamela Butler       Dancing\n",
       "3    Barbara Moore        Movies\n",
       "4   Angela Roberts  Spreadsheets"
      ]
     },
     "execution_count": 65,
     "metadata": {},
     "output_type": "execute_result"
    }
   ],
   "source": [
    "# People's hobbies\n",
    "hob = pd.read_csv(\"Data/8.3_hobbies.csv\")\n",
    "hob.head()"
   ]
  },
  {
   "cell_type": "code",
   "execution_count": 66,
   "metadata": {
    "collapsed": false
   },
   "outputs": [
    {
     "data": {
      "text/html": [
       "<div>\n",
       "<table border=\"1\" class=\"dataframe\">\n",
       "  <thead>\n",
       "    <tr style=\"text-align: right;\">\n",
       "      <th></th>\n",
       "      <th>name</th>\n",
       "      <th>hobby</th>\n",
       "    </tr>\n",
       "  </thead>\n",
       "  <tbody>\n",
       "    <tr>\n",
       "      <th>195</th>\n",
       "      <td>Bruce Ward</td>\n",
       "      <td>Tennis</td>\n",
       "    </tr>\n",
       "    <tr>\n",
       "      <th>196</th>\n",
       "      <td>Joe Reed</td>\n",
       "      <td>Football</td>\n",
       "    </tr>\n",
       "    <tr>\n",
       "      <th>197</th>\n",
       "      <td>Kathleen Foster</td>\n",
       "      <td>Basketball</td>\n",
       "    </tr>\n",
       "    <tr>\n",
       "      <th>198</th>\n",
       "      <td>Carolyn Edwards</td>\n",
       "      <td>Gaming</td>\n",
       "    </tr>\n",
       "    <tr>\n",
       "      <th>199</th>\n",
       "      <td>Bonnie Lewis</td>\n",
       "      <td>Turtles</td>\n",
       "    </tr>\n",
       "  </tbody>\n",
       "</table>\n",
       "</div>"
      ],
      "text/plain": [
       "                name       hobby\n",
       "195       Bruce Ward      Tennis\n",
       "196         Joe Reed    Football\n",
       "197  Kathleen Foster  Basketball\n",
       "198  Carolyn Edwards      Gaming\n",
       "199     Bonnie Lewis     Turtles"
      ]
     },
     "execution_count": 66,
     "metadata": {},
     "output_type": "execute_result"
    }
   ],
   "source": [
    "hob.tail()"
   ]
  },
  {
   "cell_type": "code",
   "execution_count": 67,
   "metadata": {
    "collapsed": false
   },
   "outputs": [
    {
     "data": {
      "text/plain": [
       "Gaming           19\n",
       "Turtles          19\n",
       "Spreadsheets     18\n",
       "Dancing          18\n",
       "Movies           18\n",
       "Teaching         18\n",
       "Basketball       18\n",
       "Drinking beer    18\n",
       "Tennis           18\n",
       "Football         18\n",
       "Robots design    18\n",
       "Name: hobby, dtype: int64"
      ]
     },
     "execution_count": 67,
     "metadata": {},
     "output_type": "execute_result"
    }
   ],
   "source": [
    "# most common hobbies?\n",
    "hob.hobby.value_counts()"
   ]
  },
  {
   "cell_type": "code",
   "execution_count": 68,
   "metadata": {
    "collapsed": false
   },
   "outputs": [
    {
     "data": {
      "text/plain": [
       "Nancy Bryant            4\n",
       "Elizabeth Morgan        4\n",
       "Ruby Jones              4\n",
       "Jeremy Martinez         4\n",
       "Joseph Howard           4\n",
       "Anthony Jenkins         4\n",
       "Gregory Lopez           4\n",
       "Tina Sanders            4\n",
       "Betty Rivera            4\n",
       "Laura Hall              4\n",
       "Ronald Young            4\n",
       "Alan Cook               4\n",
       "Carlos Watson           4\n",
       "Sandra Sanchez          4\n",
       "Bruce Ward              4\n",
       "Wayne Brooks            4\n",
       "Lillian Allen           4\n",
       "Christopher Williams    4\n",
       "Brandon Patterson       4\n",
       "Annie Long              4\n",
       "Margaret Clark          4\n",
       "Joe Reed                4\n",
       "Pamela Butler           4\n",
       "Beverly Stewart         4\n",
       "Fred Murphy             4\n",
       "Teresa Barnes           4\n",
       "Emily Kelly             4\n",
       "Christine Robinson      4\n",
       "Shirley Evans           4\n",
       "Victor Phillips         4\n",
       "Kelly Davis             4\n",
       "Theresa Mitchell        4\n",
       "Felienne Hermans        4\n",
       "Jack Russell            4\n",
       "Bonnie Lewis            4\n",
       "Frank Parker            4\n",
       "Angela Roberts          4\n",
       "Albert Ross             4\n",
       "Barbara Moore           4\n",
       "Debra Diaz              4\n",
       "Billy Lee               4\n",
       "Christina Thompson      4\n",
       "Justin King             4\n",
       "Carolyn Edwards         4\n",
       "Mildred Powell          4\n",
       "Amy Bennett             4\n",
       "Kathleen Foster         4\n",
       "Sharon Rogers           4\n",
       "Patricia Perez          4\n",
       "Janice Hughes           4\n",
       "Name: name, dtype: int64"
      ]
     },
     "execution_count": 68,
     "metadata": {},
     "output_type": "execute_result"
    }
   ],
   "source": [
    "# how many hobbies do people have?\n",
    "hob.name.value_counts()"
   ]
  },
  {
   "cell_type": "markdown",
   "metadata": {},
   "source": [
    "## Time to prepare the graph"
   ]
  },
  {
   "cell_type": "code",
   "execution_count": 69,
   "metadata": {
    "collapsed": false
   },
   "outputs": [],
   "source": [
    "# Let's create some edges\n",
    "pp_ages = zip(pp.name, pp.age)\n",
    "pp_cities = zip(pp.name, pp.city)\n",
    "pp_genders = zip(pp.name, pp.gender)\n",
    "pp_hobbies = zip(hob.name, hob.hobby)"
   ]
  },
  {
   "cell_type": "code",
   "execution_count": 70,
   "metadata": {
    "collapsed": true
   },
   "outputs": [],
   "source": [
    "# Create a graph and add nodes\n",
    "G = nx.Graph()\n",
    "G.add_nodes_from(pp.name, node_color=\"red\")\n",
    "G.add_nodes_from(pp.city, node_color=\"blue\")\n",
    "G.add_nodes_from(pp.gender, node_color=\"green\")\n",
    "G.add_nodes_from(hob.hobby, node_color=\"yellow\")"
   ]
  },
  {
   "cell_type": "code",
   "execution_count": 71,
   "metadata": {
    "collapsed": true
   },
   "outputs": [],
   "source": [
    "# Link up the nodes\n",
    "G.add_edges_from(pp_ages)\n",
    "G.add_edges_from(pp_cities)\n",
    "G.add_edges_from(pp_genders)\n",
    "G.add_edges_from(pp_hobbies)"
   ]
  },
  {
   "cell_type": "code",
   "execution_count": 72,
   "metadata": {
    "collapsed": true
   },
   "outputs": [],
   "source": [
    "# Now the graph should be set up."
   ]
  },
  {
   "cell_type": "markdown",
   "metadata": {},
   "source": [
    "## Graph exploration"
   ]
  },
  {
   "cell_type": "code",
   "execution_count": 73,
   "metadata": {
    "collapsed": false
   },
   "outputs": [
    {
     "name": "stdout",
     "output_type": "stream",
     "text": [
      "Total number of nodes: 84\n",
      "Total number of edges: 350\n"
     ]
    }
   ],
   "source": [
    "print(\"Total number of nodes: {}\".format(G.number_of_nodes()))\n",
    "print(\"Total number of edges: {}\".format(G.number_of_edges()))"
   ]
  },
  {
   "cell_type": "code",
   "execution_count": 96,
   "metadata": {
    "collapsed": false
   },
   "outputs": [
    {
     "ename": "SyntaxError",
     "evalue": "invalid syntax (<ipython-input-96-2b8853e9db55>, line 4)",
     "output_type": "error",
     "traceback": [
      "\u001b[1;36m  File \u001b[1;32m\"<ipython-input-96-2b8853e9db55>\"\u001b[1;36m, line \u001b[1;32m4\u001b[0m\n\u001b[1;33m    if n = pp.gender:\u001b[0m\n\u001b[1;37m         ^\u001b[0m\n\u001b[1;31mSyntaxError\u001b[0m\u001b[1;31m:\u001b[0m invalid syntax\n"
     ]
    }
   ],
   "source": [
    "nodes = G.nodes()\n",
    "colors = []\n",
    "for n in nodes:\n",
    "    if n = pp.gender:\n",
    "        colors.append(\"g\")\n",
    "    elif n in pp.name:\n",
    "        colors.append(\"r\")\n",
    "    elif n in pp.age:\n",
    "        colors.append(\"m\")\n",
    "    elif n in pp.city:\n",
    "        colors.append(\"b\")\n",
    "    elif n in hobby:\n",
    "        colors.append(\"y\")\n",
    "    "
   ]
  },
  {
   "cell_type": "code",
   "execution_count": 97,
   "metadata": {
    "collapsed": false
   },
   "outputs": [
    {
     "data": {
      "image/png": "[encoded data removed]",
      "text/plain": [
       "<matplotlib.figure.Figure at 0x1ae8fb5e860>"
      ]
     },
     "metadata": {},
     "output_type": "display_data"
    }
   ],
   "source": [
    "nx.draw_spectral(G, node_color=colors, with_labels=True, node_size=500)"
   ]
  },
  {
   "cell_type": "code",
   "execution_count": null,
   "metadata": {
    "collapsed": true
   },
   "outputs": [],
   "source": [
    "    "
   ]
  },
  {
   "cell_type": "code",
   "execution_count": null,
   "metadata": {
    "collapsed": true
   },
   "outputs": [],
   "source": []
  }
 ],
 "metadata": {
  "anaconda-cloud": {},
  "kernelspec": {
   "display_name": "Python [Root]",
   "language": "python",
   "name": "Python [Root]"
  },
  "language_info": {
   "codemirror_mode": {
    "name": "ipython",
    "version": 3
   },
   "file_extension": ".py",
   "mimetype": "text/x-python",
   "name": "python",
   "nbconvert_exporter": "python",
   "pygments_lexer": "ipython3",
   "version": "3.5.2"
  }
 },
 "nbformat": 4,
 "nbformat_minor": 0
}
